{
 "cells": [
  {
   "cell_type": "code",
   "execution_count": 6,
   "metadata": {},
   "outputs": [
    {
     "name": "stdout",
     "output_type": "stream",
     "text": [
      "Register:\n"
     ]
    },
    {
     "data": {
      "application/vnd.jupyter.widget-view+json": {
       "model_id": "0d29f850894b4e9aba4d366973dcee9f",
       "version_major": 2,
       "version_minor": 0
      },
      "text/plain": [
       "Text(value='', description='Name:')"
      ]
     },
     "metadata": {},
     "output_type": "display_data"
    },
    {
     "data": {
      "application/vnd.jupyter.widget-view+json": {
       "model_id": "527d5cd768dc485fb0a95197e7860eb0",
       "version_major": 2,
       "version_minor": 0
      },
      "text/plain": [
       "Text(value='', description='Username:')"
      ]
     },
     "metadata": {},
     "output_type": "display_data"
    },
    {
     "data": {
      "application/vnd.jupyter.widget-view+json": {
       "model_id": "f173a723f1d64790b5a9257adb0e9920",
       "version_major": 2,
       "version_minor": 0
      },
      "text/plain": [
       "Password(description='Password:')"
      ]
     },
     "metadata": {},
     "output_type": "display_data"
    },
    {
     "data": {
      "application/vnd.jupyter.widget-view+json": {
       "model_id": "66f15cfdfe6a451fa984c88227489e4f",
       "version_major": 2,
       "version_minor": 0
      },
      "text/plain": [
       "Button(description='Register', style=ButtonStyle())"
      ]
     },
     "metadata": {},
     "output_type": "display_data"
    }
   ],
   "source": [
    "# CADASTRO DE PROFESSOR\n",
    "\n",
    "import ipywidgets as widgets\n",
    "from IPython.display import display\n",
    "import oracledb\n",
    "\n",
    "# Função para registrar um novo professor\n",
    "def register_professor(name, username, password):\n",
    "    try:\n",
    "        # Conectar ao banco de dados Oracle\n",
    "        with oracledb.connect(\n",
    "            user='RM99667',\n",
    "            password='260903',\n",
    "            dsn='oracle.fiap.com.br:1521/ORCL',\n",
    "            config_dir='C:\\\\Users\\\\victo\\\\Oracle\\\\network\\\\admin',\n",
    "        ) as connection:\n",
    "            with connection.cursor() as cursor:\n",
    "                # Executar a instrução SQL para inserir um novo professor\n",
    "                cursor.execute(\"\"\"\n",
    "                    INSERT INTO RM99210.Cadastro_Professor (ID_PROFESSOR, NM_PROFESSOR, LOGIN, SENHA)\n",
    "                    VALUES (RM99210.seq_professor_id.NEXTVAL, :1, :2, :3)\n",
    "                \"\"\", (name, username, password))\n",
    "                # Confirmar a transação\n",
    "                connection.commit()\n",
    "                print(\"Professor registered successfully!\")\n",
    "    except oracledb.IntegrityError as e:\n",
    "        error, = e.args\n",
    "        if error.code == 1:\n",
    "            print(\"Error: Username already exists.\")\n",
    "        else:\n",
    "            print(f\"Database error: {error.message}\")\n",
    "\n",
    "# Widgets para o registro\n",
    "name_widget_register = widgets.Text(description='Name:')  # Campo de texto para o nome\n",
    "username_widget_register = widgets.Text(description='Username:')  # Campo de texto para o nome de usuário\n",
    "password_widget_register = widgets.Password(description='Password:')  # Campo de senha\n",
    "register_button = widgets.Button(description='Register')  # Botão de registro\n",
    "\n",
    "# Função para lidar com o clique do botão de registro\n",
    "def on_register_button_clicked(b):\n",
    "    # Obter os valores dos widgets\n",
    "    name = name_widget_register.value\n",
    "    username = username_widget_register.value\n",
    "    password = password_widget_register.value\n",
    "    # Chamar a função de registro do professor\n",
    "    register_professor(name, username, password)\n",
    "\n",
    "# Anexar o evento de clique ao botão de registro\n",
    "register_button.on_click(on_register_button_clicked)\n",
    "\n",
    "# Exibir os widgets\n",
    "print(\"Register:\")\n",
    "display(name_widget_register, username_widget_register, password_widget_register, register_button)"
   ]
  },
  {
   "cell_type": "code",
   "execution_count": 5,
   "metadata": {},
   "outputs": [
    {
     "data": {
      "application/vnd.jupyter.widget-view+json": {
       "model_id": "220a20a29a164d9aaf0575a0c690b329",
       "version_major": 2,
       "version_minor": 0
      },
      "text/plain": [
       "Text(value='', description='Username:')"
      ]
     },
     "metadata": {},
     "output_type": "display_data"
    },
    {
     "data": {
      "application/vnd.jupyter.widget-view+json": {
       "model_id": "2fb97918107c402ea806bb808603f178",
       "version_major": 2,
       "version_minor": 0
      },
      "text/plain": [
       "Password(description='Password:')"
      ]
     },
     "metadata": {},
     "output_type": "display_data"
    },
    {
     "data": {
      "application/vnd.jupyter.widget-view+json": {
       "model_id": "ee6d89d0c3c0488aba5dbef7b3d031d8",
       "version_major": 2,
       "version_minor": 0
      },
      "text/plain": [
       "Button(description='Login', style=ButtonStyle())"
      ]
     },
     "metadata": {},
     "output_type": "display_data"
    },
    {
     "data": {
      "application/vnd.jupyter.widget-view+json": {
       "model_id": "2ba3eecc22814d0690a73acdb8683234",
       "version_major": 2,
       "version_minor": 0
      },
      "text/plain": [
       "Label(value='')"
      ]
     },
     "metadata": {},
     "output_type": "display_data"
    }
   ],
   "source": [
    "# LOGIN PROFESSOR\n",
    "\n",
    "import ipywidgets as widgets\n",
    "from IPython.display import display\n",
    "import oracledb\n",
    "\n",
    "# Função para fazer o login do professor\n",
    "def login_professor(username, password):\n",
    "    with oracledb.connect(\n",
    "        user='RM99667',\n",
    "        password='260903',\n",
    "        dsn='oracle.fiap.com.br:1521/ORCL',\n",
    "        config_dir='C:\\\\Users\\\\victo\\\\Oracle\\\\network\\\\admin',\n",
    "    ) as connection:\n",
    "        with connection.cursor() as cursor:\n",
    "            cursor.execute(\"\"\"\n",
    "                SELECT COUNT(*) FROM RM99210.Cadastro_Professor\n",
    "                WHERE LOGIN = :1 AND SENHA = :2\n",
    "            \"\"\", (username, password))\n",
    "            result = cursor.fetchone()\n",
    "            if result[0] > 0:\n",
    "                print(\"Login successful!\")\n",
    "            else:\n",
    "                print(\"Invalid username or password.\")\n",
    "\n",
    "# Widgets para o nome de usuário e senha\n",
    "username_widget = widgets.Text(description='Username:')\n",
    "password_widget = widgets.Password(description='Password:')\n",
    "login_button = widgets.Button(description='Login')\n",
    "error_label = widgets.Label(value='', layout=widgets.Layout(color='red'))\n",
    "\n",
    "# Função para lidar com o clique do botão de login\n",
    "def on_login_button_clicked(b):\n",
    "    username = username_widget.value.strip()\n",
    "    password = password_widget.value.strip()\n",
    "    \n",
    "    # Verificar se todos os campos estão preenchidos\n",
    "    if not username or not password:\n",
    "        error_label.value = \"Por favor, preencha todos os campos.\"\n",
    "        return\n",
    "    \n",
    "    error_label.value = ''  # Clear any previous error message\n",
    "    login_professor(username, password)\n",
    "\n",
    "# Anexar o evento de clique ao botão de login\n",
    "login_button.on_click(on_login_button_clicked)\n",
    "\n",
    "# Exibir os widgets\n",
    "print(\"Login:\")\n",
    "display(username_widget, password_widget, login_button, error_label)"
   ]
  },
  {
   "cell_type": "code",
   "execution_count": null,
   "metadata": {},
   "outputs": [],
   "source": []
  }
 ],
 "metadata": {
  "kernelspec": {
   "display_name": "Python 3",
   "language": "python",
   "name": "python3"
  },
  "language_info": {
   "codemirror_mode": {
    "name": "ipython",
    "version": 3
   },
   "file_extension": ".py",
   "mimetype": "text/x-python",
   "name": "python",
   "nbconvert_exporter": "python",
   "pygments_lexer": "ipython3",
   "version": "3.11.9"
  }
 },
 "nbformat": 4,
 "nbformat_minor": 2
}
